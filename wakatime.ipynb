{
 "cells": [
  {
   "cell_type": "code",
   "execution_count": null,
   "id": "4526078c-0f2c-4534-a7b9-9471d8de4148",
   "metadata": {
    "editable": true,
    "slideshow": {
     "slide_type": ""
    },
    "tags": []
   },
   "outputs": [],
   "source": [
    "import requests\n",
    "import json\n",
    "import os\n",
    "from base64 import b64encode\n",
    "\n",
    "wakatime_api_key = \"\"\n",
    "wakatime_user_id = \"\"\n",
    "wakatime_api_key = wakatime_api_key.encode()\n",
    "\n",
    "wakatime_headers = {\"Authorization\": \"Basic \" +\n",
    "                    b64encode(wakatime_api_key).decode()}\n",
    "\n",
    "wakatime_stats = requests.get(\n",
    "    \"https://wakatime.com/api/v1/users/\" + wakatime_user_id + \"/stats/last_7_days\", headers=wakatime_headers)\n",
    "\n",
    "wakatime_languages = wakatime_stats.json()['data']['languages']\n",
    "\n",
    "data = []\n",
    "\n",
    "for wakadata in wakatime_languages:\n",
    "    data.append((wakadata[\"name\"], wakadata['digital'], wakadata[\"percent\"]))\n",
    "\n",
    "max_value = max(count for _, _, count in data)\n",
    "increment = max_value / 25\n",
    "\n",
    "longest_label_length = max(len(label) for label, _, _ in data)\n",
    "\n",
    "output = \"\"\n",
    "\n",
    "for label, time, count in data:\n",
    "\n",
    "    round(count, 2)\n",
    "\n",
    "    bar_chunks, remainder = divmod(int(count * 8 / increment), 8)\n",
    "\n",
    "    bar = chr(9619) * bar_chunks\n",
    "\n",
    "    if remainder > 0:\n",
    "        bar += chr(9619)\n",
    "\n",
    "    bar = bar or \"\"\n",
    "\n",
    "    output += f'{label.rjust(longest_label_length)} {time}h - {count:#5.2f}% {bar} \\n'\n",
    "\n",
    "\n",
    "github_token = \"\"\n",
    "gist_id = \"\"\n",
    "\n",
    "data = {\n",
    "    \"files\": {\n",
    "        \"weekly_development_breakdown.txt\": {\n",
    "            \"content\": output,\n",
    "            \"filename\": \"weekly_development_breakdown.txt\"\n",
    "        }\n",
    "    }\n",
    "}\n",
    "\n",
    "github_headers = {\"Authorization\": \"token \" + github_token}\n",
    "\n",
    "gist = requests.patch(\"https://api.github.com/gists/\" +\n",
    "                      gist_id, data=json.dumps(data), headers=github_headers)\n",
    "\n",
    "print(gist.json())\n"
   ]
  },
  {
   "cell_type": "code",
   "execution_count": null,
   "id": "00304c91-410b-4bb8-84bd-f36295bcb4ac",
   "metadata": {
    "editable": true,
    "slideshow": {
     "slide_type": ""
    },
    "tags": []
   },
   "outputs": [],
   "source": []
  }
 ],
 "metadata": {
  "kernelspec": {
   "display_name": "Python 3 (ipykernel)",
   "language": "python",
   "name": "python3"
  },
  "language_info": {
   "codemirror_mode": {
    "name": "ipython",
    "version": 3
   },
   "file_extension": ".py",
   "mimetype": "text/x-python",
   "name": "python",
   "nbconvert_exporter": "python",
   "pygments_lexer": "ipython3",
   "version": "3.11.7"
  }
 },
 "nbformat": 4,
 "nbformat_minor": 5
}
